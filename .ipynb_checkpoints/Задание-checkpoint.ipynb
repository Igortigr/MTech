{
 "cells": [
  {
   "cell_type": "code",
   "execution_count": 1,
   "id": "23820274",
   "metadata": {},
   "outputs": [],
   "source": [
    "import pandas as pd\n",
    "import numpy as np\n",
    "import scipy.stats as sts\n",
    "import plotly.express as px"
   ]
  },
  {
   "cell_type": "code",
   "execution_count": 2,
   "id": "dcc2c16b",
   "metadata": {},
   "outputs": [
    {
     "data": {
      "text/html": [
       "<div>\n",
       "<style scoped>\n",
       "    .dataframe tbody tr th:only-of-type {\n",
       "        vertical-align: middle;\n",
       "    }\n",
       "\n",
       "    .dataframe tbody tr th {\n",
       "        vertical-align: top;\n",
       "    }\n",
       "\n",
       "    .dataframe thead th {\n",
       "        text-align: right;\n",
       "    }\n",
       "</style>\n",
       "<table border=\"1\" class=\"dataframe\">\n",
       "  <thead>\n",
       "    <tr style=\"text-align: right;\">\n",
       "      <th></th>\n",
       "      <th>Количество больничных дней,\"Возраст\",\"Пол\"</th>\n",
       "    </tr>\n",
       "  </thead>\n",
       "  <tbody>\n",
       "    <tr>\n",
       "      <th>0</th>\n",
       "      <td>5,39,\"Ж\"</td>\n",
       "    </tr>\n",
       "    <tr>\n",
       "      <th>1</th>\n",
       "      <td>4,54,\"М\"</td>\n",
       "    </tr>\n",
       "    <tr>\n",
       "      <th>2</th>\n",
       "      <td>4,26,\"М\"</td>\n",
       "    </tr>\n",
       "    <tr>\n",
       "      <th>3</th>\n",
       "      <td>5,42,\"М\"</td>\n",
       "    </tr>\n",
       "    <tr>\n",
       "      <th>4</th>\n",
       "      <td>4,29,\"М\"</td>\n",
       "    </tr>\n",
       "  </tbody>\n",
       "</table>\n",
       "</div>"
      ],
      "text/plain": [
       "  Количество больничных дней,\"Возраст\",\"Пол\"\n",
       "0                                   5,39,\"Ж\"\n",
       "1                                   4,54,\"М\"\n",
       "2                                   4,26,\"М\"\n",
       "3                                   5,42,\"М\"\n",
       "4                                   4,29,\"М\""
      ]
     },
     "execution_count": 2,
     "metadata": {},
     "output_type": "execute_result"
    }
   ],
   "source": [
    "# чтение файла\n",
    "df = pd.read_csv('М.Тех_Данные_к_ТЗ_DS.csv',  encoding='Windows-1251')\n",
    "df.head()"
   ]
  },
  {
   "cell_type": "code",
   "execution_count": 3,
   "id": "4dff5ff2",
   "metadata": {},
   "outputs": [
    {
     "data": {
      "text/html": [
       "<div>\n",
       "<style scoped>\n",
       "    .dataframe tbody tr th:only-of-type {\n",
       "        vertical-align: middle;\n",
       "    }\n",
       "\n",
       "    .dataframe tbody tr th {\n",
       "        vertical-align: top;\n",
       "    }\n",
       "\n",
       "    .dataframe thead th {\n",
       "        text-align: right;\n",
       "    }\n",
       "</style>\n",
       "<table border=\"1\" class=\"dataframe\">\n",
       "  <thead>\n",
       "    <tr style=\"text-align: right;\">\n",
       "      <th></th>\n",
       "      <th>Количество больничных дней</th>\n",
       "      <th>Возраст</th>\n",
       "      <th>Пол</th>\n",
       "    </tr>\n",
       "  </thead>\n",
       "  <tbody>\n",
       "    <tr>\n",
       "      <th>0</th>\n",
       "      <td>5</td>\n",
       "      <td>39</td>\n",
       "      <td>\"Ж\"</td>\n",
       "    </tr>\n",
       "    <tr>\n",
       "      <th>1</th>\n",
       "      <td>4</td>\n",
       "      <td>54</td>\n",
       "      <td>\"М\"</td>\n",
       "    </tr>\n",
       "    <tr>\n",
       "      <th>2</th>\n",
       "      <td>4</td>\n",
       "      <td>26</td>\n",
       "      <td>\"М\"</td>\n",
       "    </tr>\n",
       "    <tr>\n",
       "      <th>3</th>\n",
       "      <td>5</td>\n",
       "      <td>42</td>\n",
       "      <td>\"М\"</td>\n",
       "    </tr>\n",
       "    <tr>\n",
       "      <th>4</th>\n",
       "      <td>4</td>\n",
       "      <td>29</td>\n",
       "      <td>\"М\"</td>\n",
       "    </tr>\n",
       "  </tbody>\n",
       "</table>\n",
       "</div>"
      ],
      "text/plain": [
       "  Количество больничных дней Возраст  Пол\n",
       "0                          5      39  \"Ж\"\n",
       "1                          4      54  \"М\"\n",
       "2                          4      26  \"М\"\n",
       "3                          5      42  \"М\"\n",
       "4                          4      29  \"М\""
      ]
     },
     "execution_count": 3,
     "metadata": {},
     "output_type": "execute_result"
    }
   ],
   "source": [
    "# Приведение таблицы в нормальный вид\n",
    "df[['Количество больничных дней','Возраст','Пол']]\\\n",
    "                            = df['Количество больничных дней,\"Возраст\",\"Пол\"'].str.split(',', expand=True)\n",
    "df.drop('Количество больничных дней,\"Возраст\",\"Пол\"', axis=1, inplace=True)\n",
    "df.head()"
   ]
  },
  {
   "cell_type": "code",
   "execution_count": 4,
   "id": "8075b014",
   "metadata": {},
   "outputs": [
    {
     "name": "stdout",
     "output_type": "stream",
     "text": [
      "<class 'pandas.core.frame.DataFrame'>\n",
      "RangeIndex: 237 entries, 0 to 236\n",
      "Data columns (total 3 columns):\n",
      " #   Column                      Non-Null Count  Dtype \n",
      "---  ------                      --------------  ----- \n",
      " 0   Количество больничных дней  237 non-null    object\n",
      " 1   Возраст                     237 non-null    object\n",
      " 2   Пол                         237 non-null    object\n",
      "dtypes: object(3)\n",
      "memory usage: 5.7+ KB\n"
     ]
    }
   ],
   "source": [
    "# проверка типов данных\n",
    "df.info()"
   ]
  },
  {
   "cell_type": "markdown",
   "id": "8e30fb69",
   "metadata": {},
   "source": [
    "Можно заметить, что количественные значения иметь категориальный тип данных, поэтому необходимы соответсвующие преобразования"
   ]
  },
  {
   "cell_type": "code",
   "execution_count": 5,
   "id": "d903a571",
   "metadata": {},
   "outputs": [],
   "source": [
    "# приведение в числовой формат колонок: Возраст, Количество больничных дней\n",
    "df['Количество больничных дней'] = df['Количество больничных дней'].astype(np.int32)\n",
    "df['Возраст'] = df['Возраст'].astype(np.int32)"
   ]
  },
  {
   "cell_type": "code",
   "execution_count": 6,
   "id": "e5c9ee1b",
   "metadata": {},
   "outputs": [
    {
     "data": {
      "text/html": [
       "<div>\n",
       "<style scoped>\n",
       "    .dataframe tbody tr th:only-of-type {\n",
       "        vertical-align: middle;\n",
       "    }\n",
       "\n",
       "    .dataframe tbody tr th {\n",
       "        vertical-align: top;\n",
       "    }\n",
       "\n",
       "    .dataframe thead th {\n",
       "        text-align: right;\n",
       "    }\n",
       "</style>\n",
       "<table border=\"1\" class=\"dataframe\">\n",
       "  <thead>\n",
       "    <tr style=\"text-align: right;\">\n",
       "      <th></th>\n",
       "      <th>Количество больничных дней</th>\n",
       "      <th>Возраст</th>\n",
       "    </tr>\n",
       "  </thead>\n",
       "  <tbody>\n",
       "    <tr>\n",
       "      <th>count</th>\n",
       "      <td>237.000000</td>\n",
       "      <td>237.000000</td>\n",
       "    </tr>\n",
       "    <tr>\n",
       "      <th>mean</th>\n",
       "      <td>3.257384</td>\n",
       "      <td>40.181435</td>\n",
       "    </tr>\n",
       "    <tr>\n",
       "      <th>std</th>\n",
       "      <td>1.807821</td>\n",
       "      <td>6.875157</td>\n",
       "    </tr>\n",
       "    <tr>\n",
       "      <th>min</th>\n",
       "      <td>0.000000</td>\n",
       "      <td>23.000000</td>\n",
       "    </tr>\n",
       "    <tr>\n",
       "      <th>25%</th>\n",
       "      <td>2.000000</td>\n",
       "      <td>36.000000</td>\n",
       "    </tr>\n",
       "    <tr>\n",
       "      <th>50%</th>\n",
       "      <td>3.000000</td>\n",
       "      <td>41.000000</td>\n",
       "    </tr>\n",
       "    <tr>\n",
       "      <th>75%</th>\n",
       "      <td>4.000000</td>\n",
       "      <td>45.000000</td>\n",
       "    </tr>\n",
       "    <tr>\n",
       "      <th>max</th>\n",
       "      <td>8.000000</td>\n",
       "      <td>60.000000</td>\n",
       "    </tr>\n",
       "  </tbody>\n",
       "</table>\n",
       "</div>"
      ],
      "text/plain": [
       "       Количество больничных дней     Возраст\n",
       "count                  237.000000  237.000000\n",
       "mean                     3.257384   40.181435\n",
       "std                      1.807821    6.875157\n",
       "min                      0.000000   23.000000\n",
       "25%                      2.000000   36.000000\n",
       "50%                      3.000000   41.000000\n",
       "75%                      4.000000   45.000000\n",
       "max                      8.000000   60.000000"
      ]
     },
     "execution_count": 6,
     "metadata": {},
     "output_type": "execute_result"
    }
   ],
   "source": [
    "# проверка данных на наличие пропусков, выбросов\n",
    "df.describe()"
   ]
  },
  {
   "cell_type": "code",
   "execution_count": 7,
   "id": "9c8ef5c4",
   "metadata": {},
   "outputs": [
    {
     "name": "stdout",
     "output_type": "stream",
     "text": [
      "<class 'pandas.core.frame.DataFrame'>\n",
      "RangeIndex: 237 entries, 0 to 236\n",
      "Data columns (total 3 columns):\n",
      " #   Column                      Non-Null Count  Dtype \n",
      "---  ------                      --------------  ----- \n",
      " 0   Количество больничных дней  237 non-null    int32 \n",
      " 1   Возраст                     237 non-null    int32 \n",
      " 2   Пол                         237 non-null    object\n",
      "dtypes: int32(2), object(1)\n",
      "memory usage: 3.8+ KB\n"
     ]
    }
   ],
   "source": [
    "# Удостоверились, что данные действительно преобразовались\n",
    "df.info()"
   ]
  },
  {
   "cell_type": "markdown",
   "id": "81b2ce27",
   "metadata": {},
   "source": [
    "### Визуализация данных"
   ]
  },
  {
   "cell_type": "code",
   "execution_count": 8,
   "id": "dd00a495",
   "metadata": {},
   "outputs": [],
   "source": [
    "import seaborn as sns\n",
    "import matplotlib.pyplot as plt"
   ]
  },
  {
   "cell_type": "code",
   "execution_count": null,
   "id": "76c410d0",
   "metadata": {
    "scrolled": false
   },
   "outputs": [],
   "source": [
    "plt.figure(figsize=(20,10))\n",
    "for i, col in enumerate(df.columns):\n",
    "    plt.subplot(2, 2, i+1)\n",
    "    if col == 'Возраст':\n",
    "        plt.xticks(rotation=90,)\n",
    "    plt.title(col)\n",
    "    sns.histplot(df[col])\n",
    "plt.tight_layout()"
   ]
  },
  {
   "cell_type": "markdown",
   "id": "da0b9201",
   "metadata": {},
   "source": [
    "*По результатам первичного анализа проблемы в данных **не обнаружены***"
   ]
  },
  {
   "cell_type": "markdown",
   "id": "336b6242",
   "metadata": {},
   "source": [
    "### Проверка гипотезы 1"
   ]
  },
  {
   "cell_type": "markdown",
   "id": "a0484fb1",
   "metadata": {},
   "source": [
    "Создадим дополнительную бинарную колонку, отвечающую на вопро: \"*Пропускал ли человек в течение года более 2 рабочих дней по болезни*\""
   ]
  },
  {
   "cell_type": "code",
   "execution_count": null,
   "id": "bb4967c1",
   "metadata": {},
   "outputs": [],
   "source": [
    "df['Количество больничных дней от 2 дней'] = (df['Количество больничных дней'] > 2).map(int)"
   ]
  },
  {
   "cell_type": "code",
   "execution_count": null,
   "id": "15985c37",
   "metadata": {},
   "outputs": [],
   "source": [
    "# разбиваем данные на две группы: мужчины и женщины\n",
    "hyp_1_M = df.loc[(df['Пол'] == '\"М\"'), 'Количество больничных дней от 2 дней']\n",
    "hyp_1_F = df.loc[(df['Пол'] == '\"Ж\"'), 'Количество больничных дней от 2 дней']"
   ]
  },
  {
   "cell_type": "code",
   "execution_count": null,
   "id": "035a2ae8",
   "metadata": {},
   "outputs": [],
   "source": [
    "# визуализируем полученное разбиение\n",
    "fig= plt.figure(figsize=(20,10))\n",
    "\n",
    "fig.add_subplot(2,2, 1)\n",
    "sns.histplot(hyp_1_M, binwidth=0.9)\n",
    "plt.title('Мужчины')\n",
    "\n",
    "fig.add_subplot(2,2, 2)\n",
    "plt.title('Женщины')\n",
    "sns.histplot(hyp_1_F)\n",
    "\n",
    "fig.add_subplot(2,2, 3)\n",
    "plt.title('Объединенный график')\n",
    "sns.histplot(hyp_1_M)\n",
    "sns.histplot(hyp_1_F)"
   ]
  },
  {
   "cell_type": "markdown",
   "id": "6965a69d",
   "metadata": {},
   "source": [
    "Для проверки гипотезы *\"Мужчины пропускают в течение года более 2 рабочих дней (work_days) по \n",
    "болезни значимо чаще женщин.\"* воспользуемся статистическим **критерием Стьюдента**. Но для его применения нам необходимо выполнение трех условий   \n",
    "1. Независимость выборок\n",
    "2. Равенство нормированных дисперсий\n",
    "3. Метрика ( среднее значение ) должна иметь нормальное распределение \n",
    "\n",
    "1 пункт выполняется, так как мы предполагаем, что люди брали больничный независимо друг от друга  \n",
    "3 пункт выполняется согласно центральной предельной теоремы  \n",
    "Для проверки пункта 2 воспользуемся F-тестом"
   ]
  },
  {
   "cell_type": "code",
   "execution_count": null,
   "id": "c82e6bfd",
   "metadata": {},
   "outputs": [],
   "source": [
    "# Функция, рассчитывающая статистику F-теста и соответсвующее значение p_value\n",
    "def f_test(x, y):\n",
    "    f = np.var(x, ddof=1)/np.var(y, ddof=1)\n",
    "    dfn = x.size-1 \n",
    "    dfd = y.size-1 \n",
    "    p = 1-sts.f.cdf(f, dfn, dfd) \n",
    "    return f, p"
   ]
  },
  {
   "cell_type": "code",
   "execution_count": null,
   "id": "d8821e7d",
   "metadata": {},
   "outputs": [],
   "source": [
    "# Результат F - теста\n",
    "f, p = f_test(hyp_1_M, hyp_1_F)\n",
    "print(f'Статистика F-теста = {f}, p_value={p}')"
   ]
  },
  {
   "cell_type": "markdown",
   "id": "4d84a5a3",
   "metadata": {},
   "source": [
    "По результатам *F - теста* мы получили значение *p_value* выше чем уровень значимости ( *p=0.05* ). Это означает, что у нас есть достаточно доказательств, чтобы сказать, что две дисперсии равны. Следовательно, соблюдены все условия для применения статистического критерия Стьюдента"
   ]
  },
  {
   "cell_type": "code",
   "execution_count": null,
   "id": "5273fef6",
   "metadata": {},
   "outputs": [],
   "source": [
    "# результаты статистического критерия Стьюдента\n",
    "t, p_value = sts.ttest_ind(hyp_1_F, hyp_1_M)\n",
    "print(f'Статистика t-теста = {t}, p_value={p_value}')"
   ]
  },
  {
   "cell_type": "markdown",
   "id": "64d9cae8",
   "metadata": {},
   "source": [
    "**Вывод:** *Значение p >= 0.05, следовательно, статистически значимых различий между двумя выборками не наблюдается. Это означает, что у нас нет достаточных доказательств для того, чтобы утверждать, что мужчины пропускают в течение года более 2 рабочих дней по болезни значимо чаще женщин*"
   ]
  },
  {
   "cell_type": "markdown",
   "id": "32a7801d",
   "metadata": {},
   "source": [
    "### Проверка гипотезы 2"
   ]
  },
  {
   "cell_type": "code",
   "execution_count": null,
   "id": "0aab5b39",
   "metadata": {},
   "outputs": [],
   "source": [
    "# разбиваем данные на две группы: люди старше и младше 35 лет\n",
    "hyp_2_1 = df.loc[(df['Возраст'] >= 35),'Количество больничных дней от 2 дней']\n",
    "hyp_2_2 = df.loc[(df['Возраст'] < 35),'Количество больничных дней от 2 дней']"
   ]
  },
  {
   "cell_type": "code",
   "execution_count": null,
   "id": "51ca26fe",
   "metadata": {},
   "outputs": [],
   "source": [
    "# визуализируем полученное разбиение\n",
    "fig= plt.figure(figsize=(20,10))\n",
    "\n",
    "fig.add_subplot(2,2, 1)\n",
    "sns.histplot(hyp_2_1, binwidth=0.9)\n",
    "plt.title('age >= 35')\n",
    "\n",
    "fig.add_subplot(2,2, 2)\n",
    "plt.title('age < 35')\n",
    "sns.histplot(hyp_2_2)\n",
    "\n",
    "fig.add_subplot(2,2, 3)\n",
    "plt.title('Объединенный график')\n",
    "sns.histplot(hyp_2_1)\n",
    "sns.histplot(hyp_2_2)"
   ]
  },
  {
   "cell_type": "markdown",
   "id": "79e9045d",
   "metadata": {},
   "source": [
    "На графиках можно заметить сильный дисбаланс в данных. Результаты статистического критерий Стьюдента могут в этом случае быть искажены. Поэтому для проверки гипотезы *\"Работники старше 35 лет (age) пропускают в течение года более 2 рабочих \n",
    "дней (work_days) по болезни значимо чаще своих более молодых коллег.\"* по мимо t - теста воспользуемся непараметрическим статистическим критерием Манна-Уитни"
   ]
  },
  {
   "cell_type": "code",
   "execution_count": null,
   "id": "3286a6c3",
   "metadata": {},
   "outputs": [],
   "source": [
    "# Результат F - теста\n",
    "f, p = f_test(hyp_2_1, hyp_2_2)\n",
    "print(f'Статистика F-теста = {f}, p_value={p}')"
   ]
  },
  {
   "cell_type": "markdown",
   "id": "f45a4d57",
   "metadata": {},
   "source": [
    "По результатам *F - теста* мы также получили значение *p_value* выше чем уровень значимости ( *p=0.05* ). Это означается что у нас есть достаточно доказательств, чтобы сказать, что две дисперсии равны. Следовательно соблюдены все условия для применения статистического критерия Стьюдента"
   ]
  },
  {
   "cell_type": "code",
   "execution_count": null,
   "id": "8f836c4e",
   "metadata": {},
   "outputs": [],
   "source": [
    "# результаты статистического критерия Стьюдента\n",
    "t, p_value = sts.ttest_ind(hyp_2_1, hyp_2_2)\n",
    "print(f'Статистика t-теста = {t}, p_value={p_value}')"
   ]
  },
  {
   "cell_type": "code",
   "execution_count": null,
   "id": "4e451876",
   "metadata": {},
   "outputs": [],
   "source": [
    "# результаты статистического критерия Манна-Уитни\n",
    "U, p_value = sts.mannwhitneyu(hyp_2_1, hyp_2_2)\n",
    "print(f'Статистика t-теста = {t}, p_value={p_value}')"
   ]
  },
  {
   "cell_type": "markdown",
   "id": "4e41eb57",
   "metadata": {},
   "source": [
    "**Вывод:** *Значение p >= 0.05 в обоих тестах, следовательно, статистически значимых различий между двумя выборками не наблюдается. Это означает, что у нас нет достаточных доказательств для того, чтобы утверждать, что работники старше 35 лет (age) пропускают в течение года более 2 рабочих дней (work_days) по болезни значимо чаще своих более молодых коллег*"
   ]
  }
 ],
 "metadata": {
  "kernelspec": {
   "display_name": "Python 3 (ipykernel)",
   "language": "python",
   "name": "python3"
  },
  "language_info": {
   "codemirror_mode": {
    "name": "ipython",
    "version": 3
   },
   "file_extension": ".py",
   "mimetype": "text/x-python",
   "name": "python",
   "nbconvert_exporter": "python",
   "pygments_lexer": "ipython3",
   "version": "3.7.7"
  }
 },
 "nbformat": 4,
 "nbformat_minor": 5
}
